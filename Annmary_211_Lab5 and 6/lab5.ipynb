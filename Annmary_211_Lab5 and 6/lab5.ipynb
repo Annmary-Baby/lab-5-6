{
 "cells": [
  {
   "cell_type": "markdown",
   "metadata": {},
   "source": [
    "Write a program to handle the exception of ZeroDivisionError."
   ]
  },
  {
   "cell_type": "code",
   "execution_count": 6,
   "metadata": {},
   "outputs": [
    {
     "name": "stdout",
     "output_type": "stream",
     "text": [
      "Zero Division error.\n",
      " Exception is handled.\n"
     ]
    }
   ],
   "source": [
    "x=int(input(\"Enter divident: \"))\n",
    "y=int(input(\"Enter divisor: \"))\n",
    "\n",
    "try:\n",
    "    div=x/y\n",
    "except ZeroDivisionError:\n",
    "    print(\"Zero Division error.\\n Exception is handled.\")"
   ]
  },
  {
   "cell_type": "markdown",
   "metadata": {},
   "source": [
    "# Write a program to handle the exception of IndexError."
   ]
  },
  {
   "cell_type": "code",
   "execution_count": 9,
   "metadata": {},
   "outputs": [
    {
     "name": "stdout",
     "output_type": "stream",
     "text": [
      "Invalid lesson index. Please provide a valid lesson number.\n"
     ]
    }
   ],
   "source": [
    "class OnlineCourse:\n",
    "    def __init__(self, course_name, lessons):\n",
    "        self.course_name = course_name\n",
    "        self.lessons = lessons\n",
    "\n",
    "    def access_lesson(self, index):\n",
    "        try:\n",
    "            lesson = self.lessons[index]\n",
    "            print(f\"Accessing lesson {index}: {lesson}\")\n",
    "        except IndexError:\n",
    "            print(\"Invalid lesson index. Please provide a valid lesson number.\")\n",
    "\n",
    "# Example usage\n",
    "course_name = \"Introduction to Programming\"\n",
    "lessons = [\"Introduction\", \"Variables\", \"Control Flow\", \"Functions\", \"Classes\"]\n",
    "\n",
    "course = OnlineCourse(course_name, lessons)\n",
    "\n",
    "while True:\n",
    "    try:\n",
    "        index = int(input(\"Enter the lesson number you want to access (0 to 4): \"))\n",
    "        course.access_lesson(index)\n",
    "        break  # Exit the loop if the lesson is accessed successfully\n",
    "    except ValueError:\n",
    "        print(\"Invalid input. Please enter a valid number.\")\n"
   ]
  },
  {
   "cell_type": "code",
   "execution_count": null,
   "metadata": {},
   "outputs": [],
   "source": []
  }
 ],
 "metadata": {
  "kernelspec": {
   "display_name": "Python 3",
   "language": "python",
   "name": "python3"
  },
  "language_info": {
   "codemirror_mode": {
    "name": "ipython",
    "version": 3
   },
   "file_extension": ".py",
   "mimetype": "text/x-python",
   "name": "python",
   "nbconvert_exporter": "python",
   "pygments_lexer": "ipython3",
   "version": "3.11.4"
  },
  "orig_nbformat": 4
 },
 "nbformat": 4,
 "nbformat_minor": 2
}
