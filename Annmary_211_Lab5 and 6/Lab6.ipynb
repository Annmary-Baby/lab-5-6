{
 "cells": [
  {
   "cell_type": "markdown",
   "metadata": {},
   "source": [
    "# Write a program using the Regular Exception and create a function that accepts a string and searches it for a valid phone number.\n",
    "\n",
    "Return the phone number if found."
   ]
  },
  {
   "cell_type": "code",
   "execution_count": 8,
   "metadata": {},
   "outputs": [
    {
     "name": "stdout",
     "output_type": "stream",
     "text": [
      "(123)-456-7890\n"
     ]
    }
   ],
   "source": [
    "import re\n",
    "\n",
    "def find_phone_number(input_string):\n",
    "    pattern = r'\\(?\\d{3}\\)?-?\\d{3}-\\d{4}'\n",
    "    match = re.search(pattern, input_string)\n",
    "    if match:\n",
    "        return match.group()\n",
    "    else:\n",
    "        return \"No valid phone number found\"\n",
    "\n",
    "input_text = \"Here are some numbers: (123)-456-7890 and 987-654-3210\"\n",
    "phone_number = find_phone_number(input_text)\n",
    "print(phone_number)"
   ]
  },
  {
   "cell_type": "markdown",
   "metadata": {},
   "source": [
    "# . Write a function that employs regular expressions to ensure the password given to the function is strong.\n",
    "A strong password is defined as follows:\n",
    "\n",
    "·       at least eight characters long\n",
    "\n",
    "·       contains one uppercase character\n",
    "\n",
    "·       contains one lowercase character\n",
    "\n",
    "·       has at least one digit\n",
    "\n",
    "·       has at least one special character\n",
    "\n",
    "[For instance: Christ@123]"
   ]
  },
  {
   "cell_type": "code",
   "execution_count": 9,
   "metadata": {},
   "outputs": [
    {
     "name": "stdout",
     "output_type": "stream",
     "text": [
      "Password is strong\n"
     ]
    }
   ],
   "source": [
    "import re\n",
    "\n",
    "def is_strong_password(password):\n",
    "\n",
    "    pattern = r\"^(?=.*[A-Z])(?=.*[a-z])(?=.*\\d)(?=.*[@#$%^&+=!]).{8,}$\"\n",
    "\n",
    "    if re.match(pattern, password):\n",
    "        return True\n",
    "    else:\n",
    "        return False\n",
    "        \n",
    "password = \"Christ@123\"\n",
    "if is_strong_password(password):\n",
    "    print(\"Password is strong\")\n",
    "else:\n",
    "    print(\"Password is not strong\")"
   ]
  }
 ],
 "metadata": {
  "kernelspec": {
   "display_name": "Python 3",
   "language": "python",
   "name": "python3"
  },
  "language_info": {
   "codemirror_mode": {
    "name": "ipython",
    "version": 3
   },
   "file_extension": ".py",
   "mimetype": "text/x-python",
   "name": "python",
   "nbconvert_exporter": "python",
   "pygments_lexer": "ipython3",
   "version": "3.11.4"
  },
  "orig_nbformat": 4
 },
 "nbformat": 4,
 "nbformat_minor": 2
}
